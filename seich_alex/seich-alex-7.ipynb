{
 "cells": [
  {
   "cell_type": "markdown",
   "metadata": {},
   "source": [
    "### Setup / Preparations"
   ]
  },
  {
   "cell_type": "markdown",
   "metadata": {},
   "source": [
    "Load Libraries"
   ]
  },
  {
   "cell_type": "code",
   "execution_count": 1,
   "metadata": {},
   "outputs": [],
   "source": [
    "%load_ext autoreload\n",
    "%autoreload 2\n",
    "\n",
    "\n",
    "from deepgreen import *\n",
    "import pandas as pd\n",
    "import json\n",
    "from dotenv import load_dotenv\n",
    "import os\n",
    "\n",
    "from sentinelhub.api.catalog import SentinelHubCatalog\n",
    "\n",
    "from sentinelhub import (\n",
    "    SHConfig,\n",
    "    CRS,\n",
    "    BBox,\n",
    "    BBoxSplitter,\n",
    "    CustomGridSplitter,\n",
    "    OsmSplitter,\n",
    "    TileSplitter,\n",
    "    UtmGridSplitter,\n",
    "    UtmZoneSplitter,\n",
    "    DataCollection,\n",
    "    DownloadRequest,\n",
    "    MimeType,\n",
    "    MosaickingOrder,\n",
    "    SentinelHubDownloadClient,\n",
    "    SentinelHubRequest,\n",
    "    read_data,\n",
    "    bbox_to_dimensions,\n",
    ")\n",
    "from utils import plot_image"
   ]
  },
  {
   "cell_type": "markdown",
   "metadata": {},
   "source": [
    "Specify Project Paths"
   ]
  },
  {
   "cell_type": "code",
   "execution_count": 2,
   "metadata": {},
   "outputs": [],
   "source": [
    "path_data = \"data\"\n",
    "path_images = \"images\""
   ]
  },
  {
   "cell_type": "markdown",
   "metadata": {},
   "source": [
    "Initialize Sentinelhub Modules"
   ]
  },
  {
   "cell_type": "code",
   "execution_count": 3,
   "metadata": {},
   "outputs": [],
   "source": [
    "# Init Config\n",
    "load_dotenv()\n",
    "\n",
    "CONFIG = SHConfig()\n",
    "# TODO: Gaht nöd\n",
    "CONFIG.sh_client_id = os.environ.get(\"CLIENT_ID\")\n",
    "CONFIG.sh_client_secret = os.environ.get(\"CLIENT_SECRET\")\n",
    "# Init Catalog\n",
    "CATALOG = SentinelHubCatalog(config=CONFIG)"
   ]
  },
  {
   "cell_type": "markdown",
   "metadata": {},
   "source": [
    "Define Area(s) of Intrest"
   ]
  },
  {
   "cell_type": "code",
   "execution_count": 4,
   "metadata": {},
   "outputs": [],
   "source": [
    "# AOI for Switzerland (100% correct)\n",
    "AOI_CH = BBox(bbox = (5.956302777777778, 45.81803055555556, 10.491944444444444, 47.80826388888889), \n",
    "              crs = CRS.WGS84)\n",
    "# AOI for Zürich (estimate)\n",
    "AOI_ZH = BBox(bbox = (8.396073, 47.255932, 8.880802, 47.562627), \n",
    "              crs = CRS.WGS84)\n",
    "# AOI for Winterthur (estimate)\n",
    "AOI_WT = BBox(bbox = (8.629496, 47.421583, 8.884906,47.58301), \n",
    "              crs = CRS.WGS84)"
   ]
  },
  {
   "cell_type": "markdown",
   "metadata": {},
   "source": [
    "Segment Area of Intrest based on resolution"
   ]
  },
  {
   "cell_type": "code",
   "execution_count": 6,
   "metadata": {},
   "outputs": [
    {
     "name": "stdout",
     "output_type": "stream",
     "text": [
      "AOI has Dimensions: 3391px x 3673px (h x w)\n",
      "AOI has been split into Grid with Dimensions: 3 x 3 (rows x cols)\n"
     ]
    }
   ],
   "source": [
    "AOI_ZH_segments = segment_aoi(aoi = AOI_ZH, resolution = 10, output = \"grid\")\n",
    "# TODO: evtl max pixel als parameter für kleinflächigere Bilder"
   ]
  },
  {
   "cell_type": "markdown",
   "metadata": {},
   "source": [
    "Define Time Intervall and Max Cloud Coverage"
   ]
  },
  {
   "cell_type": "code",
   "execution_count": 7,
   "metadata": {},
   "outputs": [
    {
     "name": "stdout",
     "output_type": "stream",
     "text": [
      "[BBox(((8.396073, 47.46039533333333), (8.557649333333332, 47.562627)), crs=CRS('4326')), BBox(((8.557649333333332, 47.46039533333333), (8.719225666666665, 47.562627)), crs=CRS('4326')), BBox(((8.719225666666667, 47.46039533333333), (8.880802, 47.562627)), crs=CRS('4326'))]\n"
     ]
    }
   ],
   "source": [
    "print(AOI_ZH_segments[0])"
   ]
  },
  {
   "cell_type": "code",
   "execution_count": null,
   "metadata": {},
   "outputs": [],
   "source": [
    "TIME_INTERVALL = \"2024-11-29\", \"2024-11-29\"\n",
    "MAX_CC = 20"
   ]
  },
  {
   "cell_type": "markdown",
   "metadata": {},
   "source": [
    "create Dictionary to Map AOI Segment ID's to respective BBoxes"
   ]
  },
  {
   "cell_type": "code",
   "execution_count": 76,
   "metadata": {},
   "outputs": [
    {
     "name": "stdout",
     "output_type": "stream",
     "text": [
      "{'0000': BBox(((8.629496, 47.5022965), (8.757201, 47.58301)), crs=CRS('4326')), '0001': BBox(((8.757201, 47.5022965), (8.884906, 47.58301)), crs=CRS('4326')), '0100': BBox(((8.629496, 47.421583), (8.757201, 47.5022965)), crs=CRS('4326')), '0101': BBox(((8.757201, 47.421583), (8.884906, 47.5022965)), crs=CRS('4326'))}\n"
     ]
    }
   ],
   "source": [
    "AOI_BBOX_MAP = create_aoi_bbox_map(AOI_WT_segments)\n",
    "print(AOI_BBOX_MAP)\n",
    "#TODO: aktuell maximal grid von 99x99 möglich (2 stellige row bzw column id)"
   ]
  },
  {
   "cell_type": "markdown",
   "metadata": {},
   "source": [
    "### Catalog API"
   ]
  },
  {
   "cell_type": "markdown",
   "metadata": {},
   "source": [
    "> **AOI_CATALOG**: Dictionary with Timestamps and CC of all recordings in specified Timerange for all AOI Segments\n",
    "\n",
    "> **AOI_DF**: Dataframe with Timestamps and CC of all recordings in specified Timerange for all AOI Segments\n"
   ]
  },
  {
   "cell_type": "code",
   "execution_count": null,
   "metadata": {},
   "outputs": [
    {
     "name": "stdout",
     "output_type": "stream",
     "text": [
      "{'0000': {'2024-11-29T10:37:44Z': 18.88, '2024-11-26T10:27:47Z': 96.44, '2024-11-24T10:37:46Z': 96.39, '2024-11-19T10:37:45Z': 91.69, '2024-11-16T10:27:48Z': 33.13, '2024-11-14T10:37:41Z': 48.84, '2024-11-11T10:27:43Z': 70.84, '2024-11-09T10:37:43Z': 86.21, '2024-11-06T10:27:44Z': 57.57, '2024-11-04T10:37:42Z': 61.49, '2024-11-01T10:27:48Z': 35.75}, '0001': {'2024-11-29T10:37:44Z': 18.88, '2024-11-26T10:27:47Z': 96.44, '2024-11-24T10:37:46Z': 96.39, '2024-11-19T10:37:45Z': 91.69, '2024-11-16T10:27:48Z': 33.13, '2024-11-14T10:37:41Z': 48.84, '2024-11-11T10:27:43Z': 70.84, '2024-11-09T10:37:43Z': 86.21, '2024-11-06T10:27:44Z': 57.57, '2024-11-04T10:37:42Z': 61.49, '2024-11-01T10:27:48Z': 35.75}, '0100': {'2024-11-29T10:37:44Z': 18.88, '2024-11-26T10:27:47Z': 96.44, '2024-11-24T10:37:46Z': 96.39, '2024-11-19T10:37:45Z': 91.69, '2024-11-16T10:27:48Z': 33.13, '2024-11-14T10:37:41Z': 48.84, '2024-11-11T10:27:43Z': 70.84, '2024-11-09T10:37:43Z': 86.21, '2024-11-06T10:27:44Z': 57.57, '2024-11-04T10:37:42Z': 61.49, '2024-11-01T10:27:48Z': 35.75}, '0101': {'2024-11-29T10:37:44Z': 18.88, '2024-11-26T10:27:47Z': 96.44, '2024-11-24T10:37:46Z': 96.39, '2024-11-19T10:37:45Z': 91.69, '2024-11-16T10:27:48Z': 33.13, '2024-11-14T10:37:41Z': 48.84, '2024-11-11T10:27:43Z': 70.84, '2024-11-09T10:37:43Z': 86.21, '2024-11-06T10:27:44Z': 57.57, '2024-11-04T10:37:42Z': 61.49, '2024-11-01T10:27:48Z': 35.75}}\n",
      "creating AOI_CATALOG_DF\n",
      "> created DF has 44 entries\n"
     ]
    },
    {
     "data": {
      "text/html": [
       "<div>\n",
       "<style scoped>\n",
       "    .dataframe tbody tr th:only-of-type {\n",
       "        vertical-align: middle;\n",
       "    }\n",
       "\n",
       "    .dataframe tbody tr th {\n",
       "        vertical-align: top;\n",
       "    }\n",
       "\n",
       "    .dataframe thead th {\n",
       "        text-align: right;\n",
       "    }\n",
       "</style>\n",
       "<table border=\"1\" class=\"dataframe\">\n",
       "  <thead>\n",
       "    <tr style=\"text-align: right;\">\n",
       "      <th></th>\n",
       "      <th>AOI_ID</th>\n",
       "      <th>TS</th>\n",
       "      <th>CC</th>\n",
       "      <th>UID</th>\n",
       "    </tr>\n",
       "  </thead>\n",
       "  <tbody>\n",
       "    <tr>\n",
       "      <th>0</th>\n",
       "      <td>0000</td>\n",
       "      <td>2024-11-29T10:37:44Z</td>\n",
       "      <td>18.88</td>\n",
       "      <td>0000_2024-11-29T10:37:44Z</td>\n",
       "    </tr>\n",
       "    <tr>\n",
       "      <th>1</th>\n",
       "      <td>0000</td>\n",
       "      <td>2024-11-26T10:27:47Z</td>\n",
       "      <td>96.44</td>\n",
       "      <td>0000_2024-11-26T10:27:47Z</td>\n",
       "    </tr>\n",
       "    <tr>\n",
       "      <th>2</th>\n",
       "      <td>0000</td>\n",
       "      <td>2024-11-24T10:37:46Z</td>\n",
       "      <td>96.39</td>\n",
       "      <td>0000_2024-11-24T10:37:46Z</td>\n",
       "    </tr>\n",
       "    <tr>\n",
       "      <th>3</th>\n",
       "      <td>0000</td>\n",
       "      <td>2024-11-19T10:37:45Z</td>\n",
       "      <td>91.69</td>\n",
       "      <td>0000_2024-11-19T10:37:45Z</td>\n",
       "    </tr>\n",
       "    <tr>\n",
       "      <th>4</th>\n",
       "      <td>0000</td>\n",
       "      <td>2024-11-16T10:27:48Z</td>\n",
       "      <td>33.13</td>\n",
       "      <td>0000_2024-11-16T10:27:48Z</td>\n",
       "    </tr>\n",
       "  </tbody>\n",
       "</table>\n",
       "</div>"
      ],
      "text/plain": [
       "  AOI_ID                    TS     CC                        UID\n",
       "0   0000  2024-11-29T10:37:44Z  18.88  0000_2024-11-29T10:37:44Z\n",
       "1   0000  2024-11-26T10:27:47Z  96.44  0000_2024-11-26T10:27:47Z\n",
       "2   0000  2024-11-24T10:37:46Z  96.39  0000_2024-11-24T10:37:46Z\n",
       "3   0000  2024-11-19T10:37:45Z  91.69  0000_2024-11-19T10:37:45Z\n",
       "4   0000  2024-11-16T10:27:48Z  33.13  0000_2024-11-16T10:27:48Z"
      ]
     },
     "execution_count": 77,
     "metadata": {},
     "output_type": "execute_result"
    }
   ],
   "source": [
    "AOI_CATALOG = create_aoi_catalog(CATALOG, TIME_INTERVALL, AOI_BBOX_MAP, save_file = True)\n",
    "print(AOI_CATALOG)\n",
    "\n",
    "AOI_DF = create_aoi_catalog_df_old_data(AOI_CATALOG)\n",
    "# TODO: verschiedene Datentypen\n",
    "AOI_DF.head()"
   ]
  },
  {
   "cell_type": "markdown",
   "metadata": {},
   "source": [
    "### Process API"
   ]
  },
  {
   "cell_type": "markdown",
   "metadata": {},
   "source": [
    "> **AOI_CATALOG_2**: Dictionary with Timestamps and CC from API and CC self calculated of all recordings in specified Timerange for all AOI Segments\n",
    "\n",
    "> **AOI_DF_2**: DF für das obe"
   ]
  },
  {
   "cell_type": "markdown",
   "metadata": {},
   "source": [
    "calculate and display actual cloud coverage"
   ]
  },
  {
   "cell_type": "code",
   "execution_count": 97,
   "metadata": {},
   "outputs": [
    {
     "name": "stdout",
     "output_type": "stream",
     "text": [
      "Calculating Cloud Coverage\n",
      "Estimated Time: 106.0 seconds, 1.7746666666666664 minutes\n"
     ]
    },
    {
     "data": {
      "text/html": [
       "<div>\n",
       "<style scoped>\n",
       "    .dataframe tbody tr th:only-of-type {\n",
       "        vertical-align: middle;\n",
       "    }\n",
       "\n",
       "    .dataframe tbody tr th {\n",
       "        vertical-align: top;\n",
       "    }\n",
       "\n",
       "    .dataframe thead th {\n",
       "        text-align: right;\n",
       "    }\n",
       "</style>\n",
       "<table border=\"1\" class=\"dataframe\">\n",
       "  <thead>\n",
       "    <tr style=\"text-align: right;\">\n",
       "      <th></th>\n",
       "      <th>AOI_ID</th>\n",
       "      <th>Timestamp</th>\n",
       "      <th>CC_API</th>\n",
       "      <th>CC_CLC</th>\n",
       "    </tr>\n",
       "  </thead>\n",
       "  <tbody>\n",
       "    <tr>\n",
       "      <th>0</th>\n",
       "      <td>0000</td>\n",
       "      <td>2024-11-29T10:37:44Z</td>\n",
       "      <td>18.88</td>\n",
       "      <td>90.812595</td>\n",
       "    </tr>\n",
       "    <tr>\n",
       "      <th>1</th>\n",
       "      <td>0000</td>\n",
       "      <td>2024-11-26T10:27:47Z</td>\n",
       "      <td>96.44</td>\n",
       "      <td>61.133050</td>\n",
       "    </tr>\n",
       "    <tr>\n",
       "      <th>2</th>\n",
       "      <td>0000</td>\n",
       "      <td>2024-11-24T10:37:46Z</td>\n",
       "      <td>96.39</td>\n",
       "      <td>99.492309</td>\n",
       "    </tr>\n",
       "    <tr>\n",
       "      <th>3</th>\n",
       "      <td>0000</td>\n",
       "      <td>2024-11-19T10:37:45Z</td>\n",
       "      <td>91.69</td>\n",
       "      <td>96.935868</td>\n",
       "    </tr>\n",
       "    <tr>\n",
       "      <th>4</th>\n",
       "      <td>0000</td>\n",
       "      <td>2024-11-16T10:27:48Z</td>\n",
       "      <td>33.13</td>\n",
       "      <td>93.466861</td>\n",
       "    </tr>\n",
       "  </tbody>\n",
       "</table>\n",
       "</div>"
      ],
      "text/plain": [
       "  AOI_ID             Timestamp  CC_API     CC_CLC\n",
       "0   0000  2024-11-29T10:37:44Z   18.88  90.812595\n",
       "1   0000  2024-11-26T10:27:47Z   96.44  61.133050\n",
       "2   0000  2024-11-24T10:37:46Z   96.39  99.492309\n",
       "3   0000  2024-11-19T10:37:45Z   91.69  96.935868\n",
       "4   0000  2024-11-16T10:27:48Z   33.13  93.466861"
      ]
     },
     "execution_count": 97,
     "metadata": {},
     "output_type": "execute_result"
    }
   ],
   "source": [
    "AOI_CATALOG_2 = calculate_cc(AOI_CATALOG, AOI_BBOX_MAP, resolution = 10, CONFIG = CONFIG)\n",
    "AOI_DF_2 = create_aoi_df_2(AOI_CATALOG_2)\n",
    "AOI_DF_2.head()\n"
   ]
  },
  {
   "cell_type": "code",
   "execution_count": 103,
   "metadata": {},
   "outputs": [],
   "source": [
    "evalscript = load_evalscript(\"evalscripts/es_true_color.js\")\n",
    "resolution = 10\n",
    "for aoi_id in AOI_CATALOG_2.keys():\n",
    "    aoi_recordings = AOI_CATALOG_2[aoi_id]\n",
    "    aoi_bbox = AOI_BBOX_MAP[aoi_id]\n",
    "    for recording in aoi_recordings.keys():\n",
    "        timestamp = recording\n",
    "        img = get_img(evalscript = evalscript, timestamp = str(timestamp)[:10], bbox = aoi_bbox, resolution = resolution, CONFIG = CONFIG)\n",
    "        image_name = aoi_id+\"_\"+str(timestamp)[:10]+\".png\"\n",
    "        download_img(img = img, path = path_images, filename = image_name)\n"
   ]
  },
  {
   "cell_type": "code",
   "execution_count": 113,
   "metadata": {},
   "outputs": [
    {
     "data": {
      "text/html": [
       "<div>\n",
       "<style scoped>\n",
       "    .dataframe tbody tr th:only-of-type {\n",
       "        vertical-align: middle;\n",
       "    }\n",
       "\n",
       "    .dataframe tbody tr th {\n",
       "        vertical-align: top;\n",
       "    }\n",
       "\n",
       "    .dataframe thead th {\n",
       "        text-align: right;\n",
       "    }\n",
       "</style>\n",
       "<table border=\"1\" class=\"dataframe\">\n",
       "  <thead>\n",
       "    <tr style=\"text-align: right;\">\n",
       "      <th></th>\n",
       "      <th>AOI_ID</th>\n",
       "      <th>Timestamp</th>\n",
       "      <th>CC_API</th>\n",
       "      <th>CC_CLC</th>\n",
       "      <th>Image_Path</th>\n",
       "    </tr>\n",
       "  </thead>\n",
       "  <tbody>\n",
       "    <tr>\n",
       "      <th>0</th>\n",
       "      <td>0000</td>\n",
       "      <td>2024-11-29T10:37:44Z</td>\n",
       "      <td>18.88</td>\n",
       "      <td>90.812595</td>\n",
       "      <td>images/0000_2024-11-29.png</td>\n",
       "    </tr>\n",
       "    <tr>\n",
       "      <th>1</th>\n",
       "      <td>0000</td>\n",
       "      <td>2024-11-26T10:27:47Z</td>\n",
       "      <td>96.44</td>\n",
       "      <td>61.133050</td>\n",
       "      <td>images/0000_2024-11-26.png</td>\n",
       "    </tr>\n",
       "    <tr>\n",
       "      <th>2</th>\n",
       "      <td>0000</td>\n",
       "      <td>2024-11-24T10:37:46Z</td>\n",
       "      <td>96.39</td>\n",
       "      <td>99.492309</td>\n",
       "      <td>images/0000_2024-11-24.png</td>\n",
       "    </tr>\n",
       "    <tr>\n",
       "      <th>3</th>\n",
       "      <td>0000</td>\n",
       "      <td>2024-11-19T10:37:45Z</td>\n",
       "      <td>91.69</td>\n",
       "      <td>96.935868</td>\n",
       "      <td>images/0000_2024-11-19.png</td>\n",
       "    </tr>\n",
       "    <tr>\n",
       "      <th>4</th>\n",
       "      <td>0000</td>\n",
       "      <td>2024-11-16T10:27:48Z</td>\n",
       "      <td>33.13</td>\n",
       "      <td>93.466861</td>\n",
       "      <td>images/0000_2024-11-16.png</td>\n",
       "    </tr>\n",
       "  </tbody>\n",
       "</table>\n",
       "</div>"
      ],
      "text/plain": [
       "  AOI_ID             Timestamp  CC_API     CC_CLC                  Image_Path\n",
       "0   0000  2024-11-29T10:37:44Z   18.88  90.812595  images/0000_2024-11-29.png\n",
       "1   0000  2024-11-26T10:27:47Z   96.44  61.133050  images/0000_2024-11-26.png\n",
       "2   0000  2024-11-24T10:37:46Z   96.39  99.492309  images/0000_2024-11-24.png\n",
       "3   0000  2024-11-19T10:37:45Z   91.69  96.935868  images/0000_2024-11-19.png\n",
       "4   0000  2024-11-16T10:27:48Z   33.13  93.466861  images/0000_2024-11-16.png"
      ]
     },
     "execution_count": 113,
     "metadata": {},
     "output_type": "execute_result"
    }
   ],
   "source": [
    "AOI_DF_2.head()"
   ]
  },
  {
   "cell_type": "code",
   "execution_count": 128,
   "metadata": {},
   "outputs": [
    {
     "data": {
      "text/html": [
       "<div>\n",
       "<style scoped>\n",
       "    .dataframe tbody tr th:only-of-type {\n",
       "        vertical-align: middle;\n",
       "    }\n",
       "\n",
       "    .dataframe tbody tr th {\n",
       "        vertical-align: top;\n",
       "    }\n",
       "\n",
       "    .dataframe thead th {\n",
       "        text-align: right;\n",
       "    }\n",
       "</style>\n",
       "<table border=\"1\" class=\"dataframe\">\n",
       "  <thead>\n",
       "    <tr style=\"text-align: right;\">\n",
       "      <th></th>\n",
       "      <th>AOI_ID</th>\n",
       "      <th>Timestamp</th>\n",
       "      <th>CC_API</th>\n",
       "      <th>CC_CLC</th>\n",
       "      <th>Image_Path</th>\n",
       "    </tr>\n",
       "  </thead>\n",
       "  <tbody>\n",
       "    <tr>\n",
       "      <th>0</th>\n",
       "      <td>0000</td>\n",
       "      <td>2024-11-29T10:37:44Z</td>\n",
       "      <td>18.88</td>\n",
       "      <td>90.812595</td>\n",
       "      <td>images/0000_2024-11-29.png</td>\n",
       "    </tr>\n",
       "    <tr>\n",
       "      <th>33</th>\n",
       "      <td>0101</td>\n",
       "      <td>2024-11-29T10:37:44Z</td>\n",
       "      <td>18.88</td>\n",
       "      <td>73.702608</td>\n",
       "      <td>images/0101_2024-11-29.png</td>\n",
       "    </tr>\n",
       "    <tr>\n",
       "      <th>22</th>\n",
       "      <td>0100</td>\n",
       "      <td>2024-11-29T10:37:44Z</td>\n",
       "      <td>18.88</td>\n",
       "      <td>70.466291</td>\n",
       "      <td>images/0100_2024-11-29.png</td>\n",
       "    </tr>\n",
       "    <tr>\n",
       "      <th>11</th>\n",
       "      <td>0001</td>\n",
       "      <td>2024-11-29T10:37:44Z</td>\n",
       "      <td>18.88</td>\n",
       "      <td>86.009618</td>\n",
       "      <td>images/0001_2024-11-29.png</td>\n",
       "    </tr>\n",
       "    <tr>\n",
       "      <th>37</th>\n",
       "      <td>0101</td>\n",
       "      <td>2024-11-16T10:27:48Z</td>\n",
       "      <td>33.13</td>\n",
       "      <td>63.549831</td>\n",
       "      <td>images/0101_2024-11-16.png</td>\n",
       "    </tr>\n",
       "  </tbody>\n",
       "</table>\n",
       "</div>"
      ],
      "text/plain": [
       "   AOI_ID             Timestamp  CC_API     CC_CLC                  Image_Path\n",
       "0    0000  2024-11-29T10:37:44Z   18.88  90.812595  images/0000_2024-11-29.png\n",
       "33   0101  2024-11-29T10:37:44Z   18.88  73.702608  images/0101_2024-11-29.png\n",
       "22   0100  2024-11-29T10:37:44Z   18.88  70.466291  images/0100_2024-11-29.png\n",
       "11   0001  2024-11-29T10:37:44Z   18.88  86.009618  images/0001_2024-11-29.png\n",
       "37   0101  2024-11-16T10:27:48Z   33.13  63.549831  images/0101_2024-11-16.png"
      ]
     },
     "execution_count": 128,
     "metadata": {},
     "output_type": "execute_result"
    }
   ],
   "source": [
    "AOI_DF_2[\"Image_Path\"] = \"images/\"+AOI_DF_2['AOI_ID']+\"_\"+AOI_DF_2[\"Timestamp\"].str.slice(0,10)+\".png\"\n",
    "AOI_DF_2_OUT = AOI_DF_2[['AOI_ID', 'Timestamp', 'CC_API', 'CC_CLC', 'Image_Path']].copy()\n",
    "#AOI_DF_2_OUT.head()\n",
    "AOI_DF_2_OUT_Sorted = AOI_DF_2_OUT\n",
    "AOI_DF_2_OUT_Sorted = AOI_DF_2_OUT_Sorted.sort_values(by = 'CC_API')\n",
    "AOI_DF_2_OUT_Sorted.head()"
   ]
  },
  {
   "cell_type": "code",
   "execution_count": null,
   "metadata": {},
   "outputs": [],
   "source": [
    "import pandas as pd\n",
    "from IPython.display import display, HTML\n",
    "from PIL import Image\n",
    "import io\n",
    "import base64\n",
    "\n",
    "\n",
    "def display_dataframe_with_images(dataframe):\n",
    "    \"\"\"Displays a pandas DataFrame with images from the 'Image_Path' column.\"\"\"\n",
    "\n",
    "    html_table = \"<table><tr>\"\n",
    "    for col in dataframe.columns:\n",
    "        html_table += f\"<th>{col}</th>\"\n",
    "    html_table += \"</tr>\"\n",
    "\n",
    "    for index, row in dataframe.iterrows():\n",
    "        html_table += \"<tr>\"\n",
    "        for col in dataframe.columns:\n",
    "            if col == 'Image_Path':\n",
    "                try:\n",
    "                    # Open the image file\n",
    "                    img = Image.open(row[col])\n",
    "\n",
    "                    # Convert the image to base64\n",
    "                    buffered = io.BytesIO()\n",
    "                    img.save(buffered, format=\"PNG\")  # Or another suitable format\n",
    "                    img_str = base64.b64encode(buffered.getvalue()).decode()\n",
    "\n",
    "                    # Embed the image in the HTML table\n",
    "                    html_table += f\"<td><img src='data:image/png;base64,{img_str}' width='400'></td>\" #Adjust width as needed.\n",
    "                except FileNotFoundError:\n",
    "                    html_table += \"<td>Image not found</td>\"\n",
    "                except Exception as e:\n",
    "                    html_table += f\"<td>Error loading image: {e}</td>\"\n",
    "            else:\n",
    "                html_table += f\"<td>{row[col]}</td>\"\n",
    "        html_table += \"</tr>\"\n",
    "    html_table += \"</table>\"\n",
    "    return html_table\n",
    "\n",
    "# Call the function to display the DataFrame with images\n",
    "def save_html_table(html_string, filename=\"output_table.html\"):\n",
    "    \"\"\"Saves an HTML string to a file.\"\"\"\n",
    "    with open(filename, \"w\", encoding=\"utf-8\") as f:\n",
    "        f.write(html_string)\n",
    "    print(f\"HTML table saved to {filename}\")"
   ]
  },
  {
   "cell_type": "code",
   "execution_count": null,
   "metadata": {},
   "outputs": [],
   "source": []
  },
  {
   "cell_type": "code",
   "execution_count": 129,
   "metadata": {},
   "outputs": [
    {
     "name": "stdout",
     "output_type": "stream",
     "text": [
      "HTML table saved to output_table.html\n"
     ]
    }
   ],
   "source": [
    "html_table = display_dataframe_with_images(AOI_DF_2_OUT_Sorted)\n",
    "#display(HTML(html_table))\n",
    "save_html_table(html_table) #saves to output_table.html."
   ]
  },
  {
   "cell_type": "markdown",
   "metadata": {},
   "source": [
    "### Test Images"
   ]
  },
  {
   "cell_type": "code",
   "execution_count": 136,
   "metadata": {},
   "outputs": [],
   "source": [
    "AOI_DF_2\n",
    "test_aoi_bbox = AOI_BBOX_MAP[\"0000\"]\n",
    "test_ts = str(\"2024-11-29T10:37:44Z\")[:10]\n",
    "evalscript = load_evalscript(\"evalscripts/es_true_color.js\")\n",
    "test_img = get_img_lcc(evalscript,  test_ts, test_aoi_bbox, 10, CONFIG)\n",
    "download_img(test_img, \"images\", \"test_mosaickingorder.png\")"
   ]
  },
  {
   "cell_type": "code",
   "execution_count": null,
   "metadata": {},
   "outputs": [],
   "source": [
    "test_aoi_bbox = AOI_BBOX_MAP[\"0000\"]\n",
    "test_ts = str(\"2024-11-29T10:37:44Z\")[:10]\n",
    "evalscript = load_evalscript(\"evalscripts/es_built-up_binary_classifier.js\")\n",
    "test_img = get_img(evalscript,  test_ts, test_aoi_bbox, 10, CONFIG)\n",
    "download_img(test_img, \"images\", \"test_built_up.png\")"
   ]
  },
  {
   "cell_type": "code",
   "execution_count": null,
   "metadata": {},
   "outputs": [],
   "source": [
    "test_aoi_bbox = AOI_BBOX_MAP[\"0000\"]\n",
    "test_ts = str(\"2024-11-29T10:37:44Z\")[:10]\n",
    "evalscript = load_evalscript(\"evalscripts/es_built-up_binary_classifier.js\")\n",
    "test_img = get_img(evalscript,  test_ts, test_aoi_bbox, 10, CONFIG)\n",
    "download_img(test_img, \"images\", \"test_built_up.png\")"
   ]
  },
  {
   "cell_type": "code",
   "execution_count": 100,
   "metadata": {},
   "outputs": [
    {
     "name": "stdout",
     "output_type": "stream",
     "text": [
      "removing entries with cloud coverage > 20 \n",
      "> found 43 entries to remove\n",
      "> filtered dataframe has 1 entries\n"
     ]
    },
    {
     "data": {
      "text/html": [
       "<div>\n",
       "<style scoped>\n",
       "    .dataframe tbody tr th:only-of-type {\n",
       "        vertical-align: middle;\n",
       "    }\n",
       "\n",
       "    .dataframe tbody tr th {\n",
       "        vertical-align: top;\n",
       "    }\n",
       "\n",
       "    .dataframe thead th {\n",
       "        text-align: right;\n",
       "    }\n",
       "</style>\n",
       "<table border=\"1\" class=\"dataframe\">\n",
       "  <thead>\n",
       "    <tr style=\"text-align: right;\">\n",
       "      <th></th>\n",
       "      <th>AOI_ID</th>\n",
       "      <th>Timestamp</th>\n",
       "      <th>CC_API</th>\n",
       "      <th>CC_CLC</th>\n",
       "    </tr>\n",
       "  </thead>\n",
       "  <tbody>\n",
       "    <tr>\n",
       "      <th>43</th>\n",
       "      <td>0101</td>\n",
       "      <td>2024-11-01T10:27:48Z</td>\n",
       "      <td>35.75</td>\n",
       "      <td>8.652329</td>\n",
       "    </tr>\n",
       "  </tbody>\n",
       "</table>\n",
       "</div>"
      ],
      "text/plain": [
       "   AOI_ID             Timestamp  CC_API    CC_CLC\n",
       "43   0101  2024-11-01T10:27:48Z   35.75  8.652329"
      ]
     },
     "execution_count": 100,
     "metadata": {},
     "output_type": "execute_result"
    }
   ],
   "source": [
    "AOI_DF_2_F = filter_aoi_df(AOI_DF_2, MAX_CC)\n",
    "AOI_DF_2_F.head()"
   ]
  },
  {
   "cell_type": "code",
   "execution_count": null,
   "metadata": {},
   "outputs": [],
   "source": []
  }
 ],
 "metadata": {
  "kernelspec": {
   "display_name": "base",
   "language": "python",
   "name": "python3"
  },
  "language_info": {
   "codemirror_mode": {
    "name": "ipython",
    "version": 3
   },
   "file_extension": ".py",
   "mimetype": "text/x-python",
   "name": "python",
   "nbconvert_exporter": "python",
   "pygments_lexer": "ipython3",
   "version": "3.9.12"
  }
 },
 "nbformat": 4,
 "nbformat_minor": 2
}
